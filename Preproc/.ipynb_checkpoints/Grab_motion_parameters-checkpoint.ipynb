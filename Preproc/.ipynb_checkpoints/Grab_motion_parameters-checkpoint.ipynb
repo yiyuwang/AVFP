{
 "cells": [
  {
   "cell_type": "code",
   "execution_count": 1,
   "metadata": {},
   "outputs": [
    {
     "name": "stdout",
     "output_type": "stream",
     "text": [
      "/Users/yiyu/Dropbox/Projects/AVFP/Scripts/Preproc\n"
     ]
    }
   ],
   "source": [
    "import pandas as pd\n",
    "import numpy as np\n",
    "import glob\n",
    "import os\n",
    "cwd = os.getcwd() \n",
    "print(cwd)\n"
   ]
  },
  {
   "cell_type": "code",
   "execution_count": 4,
   "metadata": {},
   "outputs": [
    {
     "name": "stdout",
     "output_type": "stream",
     "text": [
      "/Users/yiyu/Dropbox/102/fmriprep/sub-102/func/sub-102_task-affvids_run-01_desc-confounds_regressors.tsv\n",
      "/Users/yiyu/Dropbox/102/fmriprep/sub-102/func/sub-102_task-affvids_run-02_desc-confounds_regressors.tsv\n",
      "/Users/yiyu/Dropbox/102/fmriprep/sub-102/func/sub-102_task-affvids_run-03_desc-confounds_regressors.tsv\n",
      "/Users/yiyu/Dropbox/102/fmriprep/sub-102/func/sub-102_task-affvids_run-04_desc-confounds_regressors.tsv\n",
      "/Users/yiyu/Dropbox/102/fmriprep/sub-102/func/sub-102_task-affvids_run-05_desc-confounds_regressors.tsv\n"
     ]
    }
   ],
   "source": [
    "fmriprep_dir = 'Users/yiyu/Dropbox/102'\n",
    "\n",
    "\n",
    "subjects = range(103, 120)\n",
    "\n",
    "# need to update the data directory!!!!!\n",
    "data_dir = '/Users/yiyu/Dropbox/102/fmriprep/sub-102/func'\n",
    "\n",
    "res_dir = '/Users/yiyu/Dropbox/Projects/AVFP/fmri_info'\n",
    "res_df = pd.DataFrame(columns = ['subject', '1','2','3','4','5']);\n",
    "# file_name = data_dir +'/sub-' + str(subjnum) + '_task-affvids_run-0' + str(r) + '_desc-confounds_regressors.tsv'\n",
    "for subjnum in subjects:\n",
    "    res_df= res_df.append({'subject': int(subjnum)}, ignore_index=True)\n",
    "    for r in range(1,6):    \n",
    "        confounds_files = data_dir +'/sub-' + str(subjnum) + '_task-affvids_run-0' + str(r) + '_desc-confounds_regressors.tsv'\n",
    "        print(confounds_files)\n",
    "        df = pd.read_csv(confounds_files, sep='\\t')\n",
    "        max_value = np.nanmax(df.framewise_displacement.values)\n",
    "        average_value = df.framewise_displacement.mean()\n",
    "        res_df.iloc[len(res_df)-1,r] = max_value\n",
    "    \n",
    "    \n",
    "    \n",
    "    \n",
    "res_df.to_csv(res_dir + '/subject_motion_summary.csv',index=False) "
   ]
  },
  {
   "cell_type": "code",
   "execution_count": 3,
   "metadata": {},
   "outputs": [
    {
     "data": {
      "text/html": [
       "<div>\n",
       "<style scoped>\n",
       "    .dataframe tbody tr th:only-of-type {\n",
       "        vertical-align: middle;\n",
       "    }\n",
       "\n",
       "    .dataframe tbody tr th {\n",
       "        vertical-align: top;\n",
       "    }\n",
       "\n",
       "    .dataframe thead th {\n",
       "        text-align: right;\n",
       "    }\n",
       "</style>\n",
       "<table border=\"1\" class=\"dataframe\">\n",
       "  <thead>\n",
       "    <tr style=\"text-align: right;\">\n",
       "      <th></th>\n",
       "      <th>subject</th>\n",
       "      <th>1</th>\n",
       "      <th>2</th>\n",
       "      <th>3</th>\n",
       "      <th>4</th>\n",
       "      <th>5</th>\n",
       "    </tr>\n",
       "  </thead>\n",
       "  <tbody>\n",
       "    <tr>\n",
       "      <th>0</th>\n",
       "      <td>102.0</td>\n",
       "      <td>0.345816</td>\n",
       "      <td>0.355528</td>\n",
       "      <td>0.299199</td>\n",
       "      <td>0.299495</td>\n",
       "      <td>0.344027</td>\n",
       "    </tr>\n",
       "  </tbody>\n",
       "</table>\n",
       "</div>"
      ],
      "text/plain": [
       "   subject         1         2         3         4         5\n",
       "0    102.0  0.345816  0.355528  0.299199  0.299495  0.344027"
      ]
     },
     "execution_count": 3,
     "metadata": {},
     "output_type": "execute_result"
    }
   ],
   "source": [
    "res_df"
   ]
  },
  {
   "cell_type": "code",
   "execution_count": null,
   "metadata": {},
   "outputs": [],
   "source": [
    "res_df = pd.DataFrame(columns = ['subject', 'run1','run2','run3','run4','run5']);"
   ]
  },
  {
   "cell_type": "code",
   "execution_count": null,
   "metadata": {},
   "outputs": [],
   "source": [
    "len(res_df)"
   ]
  },
  {
   "cell_type": "code",
   "execution_count": null,
   "metadata": {},
   "outputs": [],
   "source": []
  },
  {
   "cell_type": "code",
   "execution_count": null,
   "metadata": {},
   "outputs": [],
   "source": [
    "max_value"
   ]
  },
  {
   "cell_type": "code",
   "execution_count": null,
   "metadata": {},
   "outputs": [],
   "source": []
  }
 ],
 "metadata": {
  "kernelspec": {
   "display_name": "Python 3",
   "language": "python",
   "name": "python3"
  },
  "language_info": {
   "codemirror_mode": {
    "name": "ipython",
    "version": 3
   },
   "file_extension": ".py",
   "mimetype": "text/x-python",
   "name": "python",
   "nbconvert_exporter": "python",
   "pygments_lexer": "ipython3",
   "version": "3.6.9"
  }
 },
 "nbformat": 4,
 "nbformat_minor": 2
}
